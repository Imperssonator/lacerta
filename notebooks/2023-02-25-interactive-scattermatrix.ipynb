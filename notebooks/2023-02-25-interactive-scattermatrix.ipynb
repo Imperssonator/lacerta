{
 "cells": [
  {
   "cell_type": "code",
   "execution_count": null,
   "id": "5191b580",
   "metadata": {},
   "outputs": [],
   "source": [
    "%load_ext autoreload\n",
    "%autoreload 2\n",
    "\n",
    "import pandas as pd\n",
    "from bokeh.plotting import output_file, show\n",
    "from lacerta.correlations import calculate_correlations, correlation_heatmap_scatter, volcano_scatter"
   ]
  },
  {
   "cell_type": "code",
   "execution_count": null,
   "id": "c4638ca6",
   "metadata": {},
   "outputs": [],
   "source": [
    "data = pd.read_csv(\"https://archive.ics.uci.edu/ml/machine-learning-databases/concrete/slump/slump_test.data\")\n",
    "data"
   ]
  },
  {
   "cell_type": "code",
   "execution_count": null,
   "id": "dff7f00a",
   "metadata": {},
   "outputs": [],
   "source": [
    "output_file(\"heatmap.html\")\n",
    "layout = correlation_heatmap_scatter(data)\n",
    "show(layout)"
   ]
  },
  {
   "cell_type": "code",
   "execution_count": null,
   "id": "376e89fb",
   "metadata": {},
   "outputs": [],
   "source": [
    "output_file(\"volcano.html\")\n",
    "layout2 = volcano_scatter(data)\n",
    "show(layout2)"
   ]
  },
  {
   "cell_type": "code",
   "execution_count": null,
   "id": "6576f8ab",
   "metadata": {},
   "outputs": [],
   "source": []
  }
 ],
 "metadata": {
  "kernelspec": {
   "display_name": "Python 3 (ipykernel)",
   "language": "python",
   "name": "python3"
  },
  "language_info": {
   "codemirror_mode": {
    "name": "ipython",
    "version": 3
   },
   "file_extension": ".py",
   "mimetype": "text/x-python",
   "name": "python",
   "nbconvert_exporter": "python",
   "pygments_lexer": "ipython3",
   "version": "3.10.9"
  }
 },
 "nbformat": 4,
 "nbformat_minor": 5
}
